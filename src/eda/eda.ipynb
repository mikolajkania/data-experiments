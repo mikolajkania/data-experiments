{
 "cells": [
  {
   "cell_type": "code",
   "execution_count": 7,
   "metadata": {},
   "outputs": [
    {
     "data": {
      "text/html": [
       "<script type=\"text/javascript\">window.PlotlyConfig = {MathJaxConfig: 'local'};</script><script type=\"text/javascript\">if (window.MathJax) {MathJax.Hub.Config({SVG: {font: \"STIX-Web\"}});}</script><script>requirejs.config({paths: { 'plotly': ['https://cdn.plot.ly/plotly-latest.min']},});if(!window._Plotly) {require(['plotly'],function(plotly) {window._Plotly=plotly;});}</script>"
      ],
      "text/vnd.plotly.v1+html": [
       "<script type=\"text/javascript\">window.PlotlyConfig = {MathJaxConfig: 'local'};</script><script type=\"text/javascript\">if (window.MathJax) {MathJax.Hub.Config({SVG: {font: \"STIX-Web\"}});}</script><script>requirejs.config({paths: { 'plotly': ['https://cdn.plot.ly/plotly-latest.min']},});if(!window._Plotly) {require(['plotly'],function(plotly) {window._Plotly=plotly;});}</script>"
      ]
     },
     "metadata": {},
     "output_type": "display_data"
    }
   ],
   "source": [
    "%matplotlib inline\n",
    "\n",
    "import sys\n",
    "sys.path.append(\"..\") # Adds higher directory to python modules path.\n",
    "\n",
    "import pandas as pd\n",
    "import seaborn as sns\n",
    "import matplotlib.pyplot as plt\n",
    "from plotly import graph_objs\n",
    "from plotly.offline import init_notebook_mode, iplot\n",
    "\n",
    "from preprocessing.preprocessing_en import preprocess\n",
    "\n",
    "init_notebook_mode(connected=True)"
   ]
  },
  {
   "cell_type": "code",
   "execution_count": 8,
   "metadata": {},
   "outputs": [
    {
     "name": "stdout",
     "output_type": "stream",
     "text": [
      "Loading data\n",
      "Data loaded\n"
     ]
    },
    {
     "data": {
      "text/html": [
       "<div>\n",
       "<style scoped>\n",
       "    .dataframe tbody tr th:only-of-type {\n",
       "        vertical-align: middle;\n",
       "    }\n",
       "\n",
       "    .dataframe tbody tr th {\n",
       "        vertical-align: top;\n",
       "    }\n",
       "\n",
       "    .dataframe thead th {\n",
       "        text-align: right;\n",
       "    }\n",
       "</style>\n",
       "<table border=\"1\" class=\"dataframe\">\n",
       "  <thead>\n",
       "    <tr style=\"text-align: right;\">\n",
       "      <th></th>\n",
       "      <th>title_lemma</th>\n",
       "      <th>class</th>\n",
       "    </tr>\n",
       "  </thead>\n",
       "  <tbody>\n",
       "    <tr>\n",
       "      <th>0</th>\n",
       "      <td>fed official say weak data caused weather slow...</td>\n",
       "      <td>b</td>\n",
       "    </tr>\n",
       "    <tr>\n",
       "      <th>1</th>\n",
       "      <td>fed charles plosser see high bar change pace t...</td>\n",
       "      <td>b</td>\n",
       "    </tr>\n",
       "    <tr>\n",
       "      <th>2</th>\n",
       "      <td>u open stock fall fed official hint accelerate...</td>\n",
       "      <td>b</td>\n",
       "    </tr>\n",
       "    <tr>\n",
       "      <th>3</th>\n",
       "      <td>fed risk falling behind curve charles plosser say</td>\n",
       "      <td>b</td>\n",
       "    </tr>\n",
       "    <tr>\n",
       "      <th>4</th>\n",
       "      <td>fed plosser nasty weather curbed job growth</td>\n",
       "      <td>b</td>\n",
       "    </tr>\n",
       "  </tbody>\n",
       "</table>\n",
       "</div>"
      ],
      "text/plain": [
       "                                         title_lemma class\n",
       "0  fed official say weak data caused weather slow...     b\n",
       "1  fed charles plosser see high bar change pace t...     b\n",
       "2  u open stock fall fed official hint accelerate...     b\n",
       "3  fed risk falling behind curve charles plosser say     b\n",
       "4        fed plosser nasty weather curbed job growth     b"
      ]
     },
     "execution_count": 8,
     "metadata": {},
     "output_type": "execute_result"
    }
   ],
   "source": [
    "df = preprocess('../../resources/uci-news-aggregator.csv')\n",
    "\n",
    "df = df[['title_lemma', 'class']]\n",
    "\n",
    "df.head()"
   ]
  },
  {
   "cell_type": "markdown",
   "metadata": {},
   "source": [
    "# General overview"
   ]
  },
  {
   "cell_type": "code",
   "execution_count": 9,
   "metadata": {},
   "outputs": [
    {
     "name": "stdout",
     "output_type": "stream",
     "text": [
      "<class 'pandas.core.frame.DataFrame'>\n",
      "RangeIndex: 100 entries, 0 to 99\n",
      "Data columns (total 2 columns):\n",
      "title_lemma    100 non-null object\n",
      "class          100 non-null object\n",
      "dtypes: object(2)\n",
      "memory usage: 1.6+ KB\n"
     ]
    }
   ],
   "source": [
    "df.info()"
   ]
  },
  {
   "cell_type": "code",
   "execution_count": 10,
   "metadata": {},
   "outputs": [
    {
     "data": {
      "text/html": [
       "<div>\n",
       "<style scoped>\n",
       "    .dataframe tbody tr th:only-of-type {\n",
       "        vertical-align: middle;\n",
       "    }\n",
       "\n",
       "    .dataframe tbody tr th {\n",
       "        vertical-align: top;\n",
       "    }\n",
       "\n",
       "    .dataframe thead th {\n",
       "        text-align: right;\n",
       "    }\n",
       "</style>\n",
       "<table border=\"1\" class=\"dataframe\">\n",
       "  <thead>\n",
       "    <tr style=\"text-align: right;\">\n",
       "      <th></th>\n",
       "      <th>title_lemma</th>\n",
       "      <th>class</th>\n",
       "    </tr>\n",
       "  </thead>\n",
       "  <tbody>\n",
       "    <tr>\n",
       "      <th>count</th>\n",
       "      <td>100</td>\n",
       "      <td>100</td>\n",
       "    </tr>\n",
       "    <tr>\n",
       "      <th>unique</th>\n",
       "      <td>98</td>\n",
       "      <td>1</td>\n",
       "    </tr>\n",
       "    <tr>\n",
       "      <th>top</th>\n",
       "      <td>mcdonalds sale decline chain look adapt changi...</td>\n",
       "      <td>b</td>\n",
       "    </tr>\n",
       "    <tr>\n",
       "      <th>freq</th>\n",
       "      <td>2</td>\n",
       "      <td>100</td>\n",
       "    </tr>\n",
       "  </tbody>\n",
       "</table>\n",
       "</div>"
      ],
      "text/plain": [
       "                                              title_lemma class\n",
       "count                                                 100   100\n",
       "unique                                                 98     1\n",
       "top     mcdonalds sale decline chain look adapt changi...     b\n",
       "freq                                                    2   100"
      ]
     },
     "execution_count": 10,
     "metadata": {},
     "output_type": "execute_result"
    }
   ],
   "source": [
    "df.describe()"
   ]
  },
  {
   "cell_type": "markdown",
   "metadata": {},
   "source": [
    "# Text overview"
   ]
  },
  {
   "cell_type": "code",
   "execution_count": 11,
   "metadata": {},
   "outputs": [
    {
     "data": {
      "text/html": [
       "<div>\n",
       "<style scoped>\n",
       "    .dataframe tbody tr th:only-of-type {\n",
       "        vertical-align: middle;\n",
       "    }\n",
       "\n",
       "    .dataframe tbody tr th {\n",
       "        vertical-align: top;\n",
       "    }\n",
       "\n",
       "    .dataframe thead th {\n",
       "        text-align: right;\n",
       "    }\n",
       "</style>\n",
       "<table border=\"1\" class=\"dataframe\">\n",
       "  <thead>\n",
       "    <tr style=\"text-align: right;\">\n",
       "      <th></th>\n",
       "      <th>words_count</th>\n",
       "    </tr>\n",
       "  </thead>\n",
       "  <tbody>\n",
       "    <tr>\n",
       "      <th>0</th>\n",
       "      <td>9</td>\n",
       "    </tr>\n",
       "    <tr>\n",
       "      <th>1</th>\n",
       "      <td>9</td>\n",
       "    </tr>\n",
       "    <tr>\n",
       "      <th>2</th>\n",
       "      <td>9</td>\n",
       "    </tr>\n",
       "    <tr>\n",
       "      <th>3</th>\n",
       "      <td>8</td>\n",
       "    </tr>\n",
       "    <tr>\n",
       "      <th>4</th>\n",
       "      <td>7</td>\n",
       "    </tr>\n",
       "  </tbody>\n",
       "</table>\n",
       "</div>"
      ],
      "text/plain": [
       "   words_count\n",
       "0            9\n",
       "1            9\n",
       "2            9\n",
       "3            8\n",
       "4            7"
      ]
     },
     "execution_count": 11,
     "metadata": {},
     "output_type": "execute_result"
    }
   ],
   "source": [
    "df_text_stats = pd.DataFrame()\n",
    "df_text_stats['words_count'] = df['title_lemma'].apply(lambda x : len(x.split()))\n",
    "\n",
    "df_text_stats.head()"
   ]
  },
  {
   "cell_type": "code",
   "execution_count": 12,
   "metadata": {},
   "outputs": [
    {
     "data": {
      "application/vnd.plotly.v1+json": {
       "config": {
        "linkText": "Export to plot.ly",
        "plotlyServerURL": "https://plot.ly",
        "showLink": false
       },
       "data": [
        {
         "marker": {
          "color": "rgba(171, 50, 96, 0.6)"
         },
         "name": "Word Count",
         "opacity": 0.65,
         "type": "histogram",
         "uid": "da0b4c47-2a45-4f04-be23-3ba3806fbe60",
         "x": [
          9,
          9,
          9,
          8,
          7,
          6,
          6,
          9,
          10,
          7,
          7,
          6,
          6,
          9,
          6,
          6,
          8,
          9,
          6,
          9,
          9,
          8,
          10,
          9,
          5,
          6,
          7,
          9,
          9,
          10,
          11,
          10,
          7,
          7,
          6,
          9,
          9,
          6,
          7,
          7,
          8,
          8,
          5,
          7,
          3,
          7,
          8,
          4,
          1,
          5,
          6,
          5,
          8,
          5,
          7,
          9,
          7,
          8,
          7,
          5,
          7,
          9,
          10,
          9,
          9,
          8,
          10,
          7,
          5,
          10,
          10,
          8,
          7,
          7,
          7,
          6,
          7,
          4,
          7,
          6,
          6,
          8,
          8,
          7,
          9,
          6,
          11,
          7,
          8,
          4,
          6,
          11,
          5,
          6,
          6,
          7,
          7,
          8,
          9,
          4
         ]
        }
       ],
       "layout": {
        "barmode": "overlay",
        "title": {
         "text": "Word Count of Headlines"
        },
        "xaxis": {
         "title": {
          "text": "Word Count"
         }
        },
        "yaxis": {
         "title": {
          "text": "Numer of Headlines"
         }
        }
       }
      },
      "text/html": [
       "<div id=\"9d3ee019-59f2-41d9-9140-559946b021cf\" style=\"height: 525px; width: 100%;\" class=\"plotly-graph-div\"></div><script type=\"text/javascript\">require([\"plotly\"], function(Plotly) { window.PLOTLYENV=window.PLOTLYENV || {};window.PLOTLYENV.BASE_URL=\"https://plot.ly\";\n",
       "if (document.getElementById(\"9d3ee019-59f2-41d9-9140-559946b021cf\")) {\n",
       "    Plotly.newPlot(\"9d3ee019-59f2-41d9-9140-559946b021cf\", [{\"marker\": {\"color\": \"rgba(171, 50, 96, 0.6)\"}, \"name\": \"Word Count\", \"opacity\": 0.65, \"x\": [9, 9, 9, 8, 7, 6, 6, 9, 10, 7, 7, 6, 6, 9, 6, 6, 8, 9, 6, 9, 9, 8, 10, 9, 5, 6, 7, 9, 9, 10, 11, 10, 7, 7, 6, 9, 9, 6, 7, 7, 8, 8, 5, 7, 3, 7, 8, 4, 1, 5, 6, 5, 8, 5, 7, 9, 7, 8, 7, 5, 7, 9, 10, 9, 9, 8, 10, 7, 5, 10, 10, 8, 7, 7, 7, 6, 7, 4, 7, 6, 6, 8, 8, 7, 9, 6, 11, 7, 8, 4, 6, 11, 5, 6, 6, 7, 7, 8, 9, 4], \"type\": \"histogram\", \"uid\": \"da0b4c47-2a45-4f04-be23-3ba3806fbe60\"}], {\"barmode\": \"overlay\", \"title\": {\"text\": \"Word Count of Headlines\"}, \"xaxis\": {\"title\": {\"text\": \"Word Count\"}}, \"yaxis\": {\"title\": {\"text\": \"Numer of Headlines\"}}}, {\"showLink\": false, \"linkText\": \"Export to plot.ly\", \"plotlyServerURL\": \"https://plot.ly\"}); \n",
       "}\n",
       "});</script><script type=\"text/javascript\">window.addEventListener(\"resize\", function(){if (document.getElementById(\"9d3ee019-59f2-41d9-9140-559946b021cf\")) {window._Plotly.Plots.resize(document.getElementById(\"9d3ee019-59f2-41d9-9140-559946b021cf\"));};})</script>"
      ],
      "text/vnd.plotly.v1+html": [
       "<div id=\"9d3ee019-59f2-41d9-9140-559946b021cf\" style=\"height: 525px; width: 100%;\" class=\"plotly-graph-div\"></div><script type=\"text/javascript\">require([\"plotly\"], function(Plotly) { window.PLOTLYENV=window.PLOTLYENV || {};window.PLOTLYENV.BASE_URL=\"https://plot.ly\";\n",
       "if (document.getElementById(\"9d3ee019-59f2-41d9-9140-559946b021cf\")) {\n",
       "    Plotly.newPlot(\"9d3ee019-59f2-41d9-9140-559946b021cf\", [{\"marker\": {\"color\": \"rgba(171, 50, 96, 0.6)\"}, \"name\": \"Word Count\", \"opacity\": 0.65, \"x\": [9, 9, 9, 8, 7, 6, 6, 9, 10, 7, 7, 6, 6, 9, 6, 6, 8, 9, 6, 9, 9, 8, 10, 9, 5, 6, 7, 9, 9, 10, 11, 10, 7, 7, 6, 9, 9, 6, 7, 7, 8, 8, 5, 7, 3, 7, 8, 4, 1, 5, 6, 5, 8, 5, 7, 9, 7, 8, 7, 5, 7, 9, 10, 9, 9, 8, 10, 7, 5, 10, 10, 8, 7, 7, 7, 6, 7, 4, 7, 6, 6, 8, 8, 7, 9, 6, 11, 7, 8, 4, 6, 11, 5, 6, 6, 7, 7, 8, 9, 4], \"type\": \"histogram\", \"uid\": \"da0b4c47-2a45-4f04-be23-3ba3806fbe60\"}], {\"barmode\": \"overlay\", \"title\": {\"text\": \"Word Count of Headlines\"}, \"xaxis\": {\"title\": {\"text\": \"Word Count\"}}, \"yaxis\": {\"title\": {\"text\": \"Numer of Headlines\"}}}, {\"showLink\": false, \"linkText\": \"Export to plot.ly\", \"plotlyServerURL\": \"https://plot.ly\"}); \n",
       "}\n",
       "});</script><script type=\"text/javascript\">window.addEventListener(\"resize\", function(){if (document.getElementById(\"9d3ee019-59f2-41d9-9140-559946b021cf\")) {window._Plotly.Plots.resize(document.getElementById(\"9d3ee019-59f2-41d9-9140-559946b021cf\"));};})</script>"
      ]
     },
     "metadata": {},
     "output_type": "display_data"
    }
   ],
   "source": [
    "%matplotlib notebook\n",
    "\n",
    "data = graph_objs.Histogram(x=df_text_stats['words_count'], opacity=0.65, name=\"Word Count\", marker=dict(color='rgba(171, 50, 96, 0.6)'))\n",
    "\n",
    "layout = graph_objs.Layout(barmode='overlay',\n",
    "                   title='Word Count of Headlines',\n",
    "                   xaxis=dict(title='Word Count'),\n",
    "                   yaxis=dict( title='Numer of Headlines'))\n",
    "fig = graph_objs.Figure(data=data, layout=layout)\n",
    "iplot(fig)"
   ]
  },
  {
   "cell_type": "code",
   "execution_count": null,
   "metadata": {},
   "outputs": [],
   "source": []
  }
 ],
 "metadata": {
  "kernelspec": {
   "display_name": "Python 3",
   "language": "python",
   "name": "python3"
  },
  "language_info": {
   "codemirror_mode": {
    "name": "ipython",
    "version": 3
   },
   "file_extension": ".py",
   "mimetype": "text/x-python",
   "name": "python",
   "nbconvert_exporter": "python",
   "pygments_lexer": "ipython3",
   "version": "3.7.1"
  }
 },
 "nbformat": 4,
 "nbformat_minor": 1
}
