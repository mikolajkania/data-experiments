{
 "cells": [
  {
   "cell_type": "code",
   "execution_count": 1,
   "metadata": {},
   "outputs": [],
   "source": [
    "import sys\n",
    "import itertools\n",
    "\n",
    "sys.path.append('..') # Adds higher directory to python modules path.\n",
    "\n",
    "import numpy as np\n",
    "import matplotlib.pyplot as plt\n",
    "from sklearn.linear_model import LogisticRegression\n",
    "from sklearn.model_selection import train_test_split\n",
    "from sklearn.feature_extraction.text import TfidfVectorizer\n",
    "from sklearn.preprocessing import LabelEncoder\n",
    "from sklearn.metrics import confusion_matrix, classification_report\n",
    "from preprocessing.preprocessing_en import preprocess"
   ]
  },
  {
   "cell_type": "code",
   "execution_count": 2,
   "metadata": {},
   "outputs": [
    {
     "name": "stdout",
     "output_type": "stream",
     "text": [
      "Loading data\n",
      "Data loaded\n",
      "Actual preprocessing start\n",
      "Actual preprocessing end\n"
     ]
    }
   ],
   "source": [
    "# data\n",
    "df = preprocess('../../resources/uci-news-aggregator.csv')"
   ]
  },
  {
   "cell_type": "code",
   "execution_count": 3,
   "metadata": {},
   "outputs": [],
   "source": [
    "df = df[['title', 'class']]\n",
    "X = df['title']\n",
    "Y = df['class']\n",
    "\n",
    "encoder = LabelEncoder()\n",
    "y = encoder.fit_transform(Y)\n",
    "\n",
    "# train/test split\n",
    "X_train, X_test, y_train, y_test = train_test_split(X, Y, test_size=0.2, random_state=42)"
   ]
  },
  {
   "cell_type": "code",
   "execution_count": 4,
   "metadata": {},
   "outputs": [
    {
     "name": "stdout",
     "output_type": "stream",
     "text": [
      "['000', '00007458', '001', '0019', '002', '003', '0030', '003shr', '004', '005']\n"
     ]
    }
   ],
   "source": [
    "# vectorization\n",
    "vectorizer = TfidfVectorizer()\n",
    "X_train = vectorizer.fit_transform(X_train)\n",
    "X_test = vectorizer.transform(X_test)\n",
    "print(vectorizer.get_feature_names()[:10])"
   ]
  },
  {
   "cell_type": "code",
   "execution_count": 5,
   "metadata": {},
   "outputs": [
    {
     "name": "stderr",
     "output_type": "stream",
     "text": [
      "c:\\users\\mikol\\miniconda3\\envs\\newsletter\\lib\\site-packages\\sklearn\\linear_model\\logistic.py:433: FutureWarning: Default solver will be changed to 'lbfgs' in 0.22. Specify a solver to silence this warning.\n",
      "  FutureWarning)\n",
      "c:\\users\\mikol\\miniconda3\\envs\\newsletter\\lib\\site-packages\\sklearn\\linear_model\\logistic.py:460: FutureWarning: Default multi_class will be changed to 'auto' in 0.22. Specify the multi_class option to silence this warning.\n",
      "  \"this warning.\", FutureWarning)\n"
     ]
    },
    {
     "data": {
      "text/plain": [
       "LogisticRegression(C=1.0, class_weight=None, dual=False, fit_intercept=True,\n",
       "          intercept_scaling=1, max_iter=100, multi_class='warn',\n",
       "          n_jobs=None, penalty='l2', random_state=None, solver='warn',\n",
       "          tol=0.0001, verbose=0, warm_start=False)"
      ]
     },
     "execution_count": 5,
     "metadata": {},
     "output_type": "execute_result"
    }
   ],
   "source": [
    "# classification\n",
    "log_reg = LogisticRegression()\n",
    "log_reg.fit(X_train, y_train)"
   ]
  },
  {
   "cell_type": "code",
   "execution_count": 6,
   "metadata": {},
   "outputs": [
    {
     "name": "stdout",
     "output_type": "stream",
     "text": [
      "Train & test score\n",
      "0.9538609495908976\n",
      "0.941681265091615\n"
     ]
    }
   ],
   "source": [
    "print('Train & test score')\n",
    "print(log_reg.score(X_train, y_train))\n",
    "print(log_reg.score(X_test, y_test))"
   ]
  },
  {
   "cell_type": "code",
   "execution_count": 7,
   "metadata": {},
   "outputs": [
    {
     "name": "stdout",
     "output_type": "stream",
     "text": [
      "[[21695   430   171  1118]\n",
      " [  362 29682    96   213]\n",
      " [  402   279  8181   162]\n",
      " [ 1179   431    84 19999]]\n",
      "Normalized confusion matrix\n"
     ]
    },
    {
     "data": {
      "image/png": "[encoded data removed]",
      "text/plain": [
       "<Figure size 432x288 with 2 Axes>"
      ]
     },
     "metadata": {
      "needs_background": "light"
     },
     "output_type": "display_data"
    }
   ],
   "source": [
    "y_pred_test = log_reg.predict(X_test)\n",
    "cm = confusion_matrix(y_test, y_pred_test)\n",
    "\n",
    "def plot_confusion_matrix(cm, classes,\n",
    "                          normalize=True,\n",
    "                          title='Confusion matrix',\n",
    "                          cmap=plt.cm.Blues):\n",
    "    \"\"\"\n",
    "    This function prints and plots the confusion matrix.\n",
    "    Normalization can be applied by setting `normalize=True`.\n",
    "    \"\"\"\n",
    "    print(cm)\n",
    "    if normalize:\n",
    "        cm = cm.astype('float') / cm.sum(axis=1)[:, np.newaxis]\n",
    "        print(\"Normalized confusion matrix\")\n",
    "    else:\n",
    "        print('Confusion matrix, without normalization')    \n",
    "\n",
    "    plt.imshow(cm, interpolation='nearest', cmap=cmap)\n",
    "    plt.title(title)\n",
    "    plt.colorbar()\n",
    "    tick_marks = np.arange(len(classes))\n",
    "    plt.xticks(tick_marks, classes, rotation=45)\n",
    "    plt.yticks(tick_marks, classes)\n",
    "\n",
    "    fmt = '.2f' if normalize else 'd'\n",
    "    thresh = cm.max() / 2.\n",
    "    for i, j in itertools.product(range(cm.shape[0]), range(cm.shape[1])):\n",
    "        plt.text(j, i, format(cm[i, j], fmt),\n",
    "                 horizontalalignment=\"center\",\n",
    "                 color=\"white\" if cm[i, j] > thresh else \"black\")\n",
    "\n",
    "    plt.ylabel('True label')\n",
    "    plt.xlabel('Predicted label')\n",
    "    plt.tight_layout()\n",
    "    \n",
    "\n",
    "plot_confusion_matrix(cm, encoder.classes_)"
   ]
  },
  {
   "cell_type": "code",
   "execution_count": 8,
   "metadata": {},
   "outputs": [
    {
     "name": "stdout",
     "output_type": "stream",
     "text": [
      "              precision    recall  f1-score   support\n",
      "\n",
      "           b       0.92      0.93      0.92     23414\n",
      "           e       0.96      0.98      0.97     30353\n",
      "           m       0.96      0.91      0.93      9024\n",
      "           t       0.93      0.92      0.93     21693\n",
      "\n",
      "   micro avg       0.94      0.94      0.94     84484\n",
      "   macro avg       0.94      0.93      0.94     84484\n",
      "weighted avg       0.94      0.94      0.94     84484\n",
      "\n"
     ]
    }
   ],
   "source": [
    "print(classification_report(y_test, y_pred_test, target_names=encoder.classes_))"
   ]
  },
  {
   "cell_type": "code",
   "execution_count": 14,
   "metadata": {},
   "outputs": [
    {
     "name": "stderr",
     "output_type": "stream",
     "text": [
      "c:\\users\\mikol\\miniconda3\\envs\\newsletter\\lib\\site-packages\\sklearn\\linear_model\\logistic.py:433: FutureWarning: Default solver will be changed to 'lbfgs' in 0.22. Specify a solver to silence this warning.\n",
      "  FutureWarning)\n",
      "c:\\users\\mikol\\miniconda3\\envs\\newsletter\\lib\\site-packages\\sklearn\\linear_model\\logistic.py:460: FutureWarning: Default multi_class will be changed to 'auto' in 0.22. Specify the multi_class option to silence this warning.\n",
      "  \"this warning.\", FutureWarning)\n",
      "c:\\users\\mikol\\miniconda3\\envs\\newsletter\\lib\\site-packages\\sklearn\\linear_model\\logistic.py:1300: UserWarning: 'n_jobs' > 1 does not have any effect when 'solver' is set to 'liblinear'. Got 'n_jobs' = 12.\n",
      "  \" = {}.\".format(effective_n_jobs(self.n_jobs)))\n"
     ]
    },
    {
     "name": "stdout",
     "output_type": "stream",
     "text": [
      "[0.93922088 0.94080223 0.94035835 0.93775338 0.93946971]\n",
      "Accuracy: 0.940 (+/- 0.00)\n"
     ]
    }
   ],
   "source": [
    "from sklearn.model_selection import cross_val_score\n",
    "\n",
    "vec = TfidfVectorizer()\n",
    "X_all = vec.fit_transform(X)\n",
    "\n",
    "lg = LogisticRegression(n_jobs=-1)\n",
    "scores = cross_val_score(lg, X_train, y_train, cv=5)\n",
    "print(scores)\n",
    "print(\"Accuracy: %0.3f (+/- %0.2f)\" % (scores.mean(), scores.std() * 2))"
   ]
  },
  {
   "cell_type": "code",
   "execution_count": 22,
   "metadata": {},
   "outputs": [
    {
     "name": "stderr",
     "output_type": "stream",
     "text": [
      "c:\\users\\mikol\\miniconda3\\envs\\newsletter\\lib\\site-packages\\sklearn\\linear_model\\logistic.py:460: FutureWarning: Default multi_class will be changed to 'auto' in 0.22. Specify the multi_class option to silence this warning.\n",
      "  \"this warning.\", FutureWarning)\n",
      "c:\\users\\mikol\\miniconda3\\envs\\newsletter\\lib\\site-packages\\sklearn\\linear_model\\logistic.py:758: ConvergenceWarning: lbfgs failed to converge. Increase the number of iterations.\n",
      "  \"of iterations.\", ConvergenceWarning)\n",
      "c:\\users\\mikol\\miniconda3\\envs\\newsletter\\lib\\site-packages\\sklearn\\linear_model\\logistic.py:758: ConvergenceWarning: lbfgs failed to converge. Increase the number of iterations.\n",
      "  \"of iterations.\", ConvergenceWarning)\n",
      "c:\\users\\mikol\\miniconda3\\envs\\newsletter\\lib\\site-packages\\sklearn\\linear_model\\logistic.py:758: ConvergenceWarning: lbfgs failed to converge. Increase the number of iterations.\n",
      "  \"of iterations.\", ConvergenceWarning)\n",
      "c:\\users\\mikol\\miniconda3\\envs\\newsletter\\lib\\site-packages\\sklearn\\linear_model\\logistic.py:758: ConvergenceWarning: lbfgs failed to converge. Increase the number of iterations.\n",
      "  \"of iterations.\", ConvergenceWarning)\n"
     ]
    },
    {
     "name": "stdout",
     "output_type": "stream",
     "text": [
      "0.9770133309660142\n",
      "Max auc_roc b: 0.9577522286960267\n",
      "Max auc_roc e: 0.9816947043353774\n",
      "Max auc_roc m: 0.9867726061219132\n",
      "Max auc_roc t: 0.9623270794518536\n",
      "{'b': array([[0.72612407, 0.72612407, 0.76562754, 0.89285239, 0.94246105,\n",
      "        0.95672373, 0.95753747, 0.95411975, 0.95158976, 0.95011023],\n",
      "       [0.72611597, 0.72611597, 0.76473286, 0.89421043, 0.94364301,\n",
      "        0.95738826, 0.95769897, 0.95346738, 0.94965008, 0.94908784],\n",
      "       [0.72611597, 0.72611597, 0.76578336, 0.89514256, 0.94447157,\n",
      "        0.95774335, 0.95904538, 0.95581991, 0.95315667, 0.952698  ],\n",
      "       [0.72612671, 0.72612671, 0.76437428, 0.892241  , 0.94091972,\n",
      "        0.9556269 , 0.95694375, 0.95404374, 0.94972332, 0.94997485],\n",
      "       [0.72612671, 0.72612671, 0.76387122, 0.88994762, 0.93997278,\n",
      "        0.95583405, 0.95753558, 0.95549374, 0.95106975, 0.95176516]]), 'e': array([[0.63863942, 0.63890574, 0.79723032, 0.94373345, 0.97156342,\n",
      "        0.98029265, 0.98143189, 0.97944932, 0.97554336, 0.97049816],\n",
      "       [0.63864353, 0.63890985, 0.79611464, 0.94404249, 0.97301256,\n",
      "        0.98110583, 0.98189001, 0.9794783 , 0.97577937, 0.9711335 ],\n",
      "       [0.63864353, 0.63898383, 0.79512332, 0.94256292, 0.97265746,\n",
      "        0.98083951, 0.98237827, 0.98001095, 0.97617885, 0.9715034 ],\n",
      "       [0.63863818, 0.63884532, 0.79475039, 0.94253248, 0.97190247,\n",
      "        0.98014382, 0.98165301, 0.97958157, 0.97598615, 0.97336727],\n",
      "       [0.63863818, 0.63887491, 0.79443968, 0.94377534, 0.97200604,\n",
      "        0.98015861, 0.98112035, 0.97921167, 0.97532033, 0.97061522]]), 'm': array([[0.89165397, 0.89165397, 0.89223098, 0.93166048, 0.96940331,\n",
      "        0.9832813 , 0.98632914, 0.98510113, 0.98308896, 0.97897587],\n",
      "       [0.89165076, 0.89165076, 0.89216861, 0.93125897, 0.96997943,\n",
      "        0.98418335, 0.98699454, 0.98578129, 0.98362111, 0.98005534],\n",
      "       [0.89165076, 0.89165076, 0.89206504, 0.93189519, 0.96972791,\n",
      "        0.98421294, 0.98723127, 0.98582568, 0.98291091, 0.98001095],\n",
      "       [0.89164916, 0.89164916, 0.89207824, 0.93184979, 0.96886929,\n",
      "        0.98323617, 0.98658006, 0.98563312, 0.98359128, 0.97927085],\n",
      "       [0.89164916, 0.89164916, 0.89206345, 0.93153908, 0.96913562,\n",
      "        0.98428669, 0.98672802, 0.98581067, 0.98322138, 0.97941881]]), 't': array([[0.74358254, 0.74358254, 0.79231828, 0.89402122, 0.94297889,\n",
      "        0.95987513, 0.96168016, 0.95835121, 0.95454882, 0.95423812],\n",
      "       [0.74358974, 0.74358974, 0.79234172, 0.89580837, 0.94424963,\n",
      "        0.96019945, 0.96198973, 0.95874946, 0.95423676, 0.95448829],\n",
      "       [0.74358974, 0.74358974, 0.79232693, 0.89475787, 0.94531493,\n",
      "        0.96059893, 0.96301064, 0.96028822, 0.95621939, 0.95621939],\n",
      "       [0.74358595, 0.74358595, 0.79148048, 0.89329151, 0.94254727,\n",
      "        0.95934069, 0.96238866, 0.95969579, 0.95584884, 0.9559968 ],\n",
      "       [0.74358595, 0.74358595, 0.79365549, 0.89602876, 0.94398248,\n",
      "        0.96012488, 0.96256621, 0.95963661, 0.95561211, 0.95561211]])}\n"
     ]
    }
   ],
   "source": [
    "from sklearn.linear_model import LogisticRegressionCV\n",
    "from sklearn.metrics import accuracy_score\n",
    "\n",
    "clf = LogisticRegressionCV(cv=5, n_jobs=-1).fit(X_train, y_train)\n",
    "print(clf.score(X_train, y_train))\n",
    "print ('Max auc_roc b:', clf.scores_['b'].mean(axis=0).max())\n",
    "print ('Max auc_roc e:', clf.scores_['e'].mean(axis=0).max())\n",
    "print ('Max auc_roc m:', clf.scores_['m'].mean(axis=0).max())\n",
    "print ('Max auc_roc t:', clf.scores_['t'].mean(axis=0).max())\n",
    "print(clf.scores_)\n"
   ]
  }
 ],
 "metadata": {
  "kernelspec": {
   "display_name": "Python 3",
   "language": "python",
   "name": "python3"
  },
  "language_info": {
   "codemirror_mode": {
    "name": "ipython",
    "version": 3
   },
   "file_extension": ".py",
   "mimetype": "text/x-python",
   "name": "python",
   "nbconvert_exporter": "python",
   "pygments_lexer": "ipython3",
   "version": "3.6.8"
  }
 },
 "nbformat": 4,
 "nbformat_minor": 1
}
